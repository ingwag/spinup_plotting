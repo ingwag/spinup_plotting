{
 "cells": [
  {
   "cell_type": "markdown",
   "metadata": {},
   "source": [
    "# Get Monthly Fluxes From Accumulated Fields"
   ]
  },
  {
   "cell_type": "code",
   "execution_count": 10,
   "metadata": {},
   "outputs": [],
   "source": [
    "import xarray as xr\n",
    "import numpy as np\n",
    "working_path = '/gpfs/scratch/bsc32/bsc32681/coupled_spinups/tco1279/'"
   ]
  },
  {
   "cell_type": "code",
   "execution_count": 12,
   "metadata": {},
   "outputs": [],
   "source": [
    "def get_accumulated(var,year):\n",
    "    '''loads the global average of the accumulated fluxes, the data must be in the directory \"working_path\" \n",
    "    and the data files must be named $year_$var.nc'''\n",
    "    hourly = xr.load_dataset(working_path + '%i_%s.nc'%(year,var))\n",
    "    monthly = []\n",
    "    prev_mon = None #month of the previous timestep\n",
    "    for i in range(hourly.time.size):\n",
    "        cur_mon = hourly.time[i].dt.month #month of the current timestep\n",
    "        if cur_mon != prev_mon:\n",
    "            monthly.append(np.float64(hourly['var'][i]))\n",
    "        prev_mon = cur_mon\n",
    "    monthly = np.array(monthly)[1:]\n",
    "    return monthly "
   ]
  },
  {
   "cell_type": "code",
   "execution_count": 18,
   "metadata": {},
   "outputs": [
    {
     "name": "stdout",
     "output_type": "stream",
     "text": [
      "['1950-01' '1950-02' '1950-03' '1950-04' '1950-05' '1950-06' '1950-07'\n",
      " '1950-08' '1950-09' '1950-10' '1950-11' '1950-12' '1951-01' '1951-02'\n",
      " '1951-03' '1951-04' '1951-05' '1951-06' '1951-07' '1951-08' '1951-09'\n",
      " '1951-10' '1951-11' '1951-12'] ['1990-01' '1990-02' '1990-03' '1990-04' '1990-05' '1990-06' '1990-07'\n",
      " '1990-08' '1990-09' '1990-10' '1990-11' '1990-12' '1991-01' '1991-02'\n",
      " '1991-03' '1991-04' '1991-05' '1991-06' '1991-07' '1991-08' '1991-09'\n",
      " '1991-10' '1991-11' '1991-12']\n"
     ]
    }
   ],
   "source": [
    "#creating the datetime arrays for the monthly data (not important for the gregory plots)\n",
    "dt50s = np.arange(np.datetime64('1950-01'),np.datetime64('1952-01'),np.timedelta64(1,'M'))\n",
    "dt90s = np.arange(np.datetime64('1990-01'),np.datetime64('1992-01'),np.timedelta64(1,'M'))\n",
    "print(dt50s,dt90s)"
   ]
  },
  {
   "cell_type": "code",
   "execution_count": 17,
   "metadata": {},
   "outputs": [
    {
     "name": "stdout",
     "output_type": "stream",
     "text": [
      "tsr 1950\n",
      "tsr 1990\n",
      "ttr 1950\n",
      "ttr 1990\n"
     ]
    }
   ],
   "source": [
    "#loading the data into datasets and then saving them as NetCDFs\n",
    "for var in ['tsr','ttr']:\n",
    "    for year in [1950,1990]:\n",
    "        print(var,year)\n",
    "        monthly = get_accumulated(var,year)\n",
    "        if year == 1950:\n",
    "            ds = xr.Dataset(data_vars={var:(['time'],monthly)},coords={'time':dt50s})\n",
    "        elif year == 1990:\n",
    "            ds = xr.Dataset(data_vars={var:(['time'],monthly)},coords={'time':dt90s})\n",
    "        #save the monthly fluxes as netcdf files, with the filenames as $year_$var_mon.nc\n",
    "        ds.to_netcdf(working_path + '%i_%s_mon.nc'%(year,var))\n",
    "            "
   ]
  },
  {
   "cell_type": "code",
   "execution_count": null,
   "metadata": {},
   "outputs": [],
   "source": []
  },
  {
   "cell_type": "code",
   "execution_count": null,
   "metadata": {},
   "outputs": [],
   "source": []
  }
 ],
 "metadata": {
  "kernelspec": {
   "display_name": "Python 3",
   "language": "python",
   "name": "python3"
  },
  "language_info": {
   "codemirror_mode": {
    "name": "ipython",
    "version": 3
   },
   "file_extension": ".py",
   "mimetype": "text/x-python",
   "name": "python",
   "nbconvert_exporter": "python",
   "pygments_lexer": "ipython3",
   "version": "3.7.4"
  }
 },
 "nbformat": 4,
 "nbformat_minor": 4
}
